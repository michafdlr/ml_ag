{
 "cells": [
  {
   "cell_type": "markdown",
   "metadata": {},
   "source": [
    "# Logistische Regression"
   ]
  },
  {
   "cell_type": "markdown",
   "metadata": {},
   "source": [
    "In diesem Kapitel implementieren wir mit PyTorch ein Modell für die **Logistische Regression**, das zwar in anderen Bibliotheken direkt integriert ist (sci-kit-leaern), uns aber wichtige Einblicke für das Training von deep-neural nets liefert."
   ]
  },
  {
   "cell_type": "code",
   "execution_count": 64,
   "metadata": {},
   "outputs": [],
   "source": [
    "# Module für die Datenanalyse und Visualisierung\n",
    "import pandas as pd\n",
    "import matplotlib.pyplot as plt\n",
    "\n",
    "# Pytorch imports, die wir benötigen\n",
    "\n",
    "import torch\n",
    "from torch import nn # wir werden Methoden von nn.Module benötigen\n",
    "import torch.nn.functional as F # Für die Berechnung des \"Fehlers\"\n",
    "from torch.utils.data import DataLoader, Dataset #zur Vorbreitung der Daten für das Training in Mini-Batches"
   ]
  },
  {
   "cell_type": "markdown",
   "metadata": {},
   "source": [
    "## Datensatz importieren und etwas Analyse"
   ]
  },
  {
   "cell_type": "markdown",
   "metadata": {},
   "source": [
    "Wir werden mit einem Datensatz über gefälschte und echte Banknoten arbeiten. Hier wurden bereits Werte der Geldscheine aus den Bildern der Geldscheine extrahiert, mit denen wir arbeiten können, um einen Geldschein als echt oder gefälscht zu klassifizieren. Normalerweise wäre die Extraktion dieser Eigenschaften ein weitere Schritt, den man vorher durchführen müsste."
   ]
  },
  {
   "cell_type": "code",
   "execution_count": 65,
   "metadata": {},
   "outputs": [
    {
     "data": {
      "text/html": [
       "<div>\n",
       "<style scoped>\n",
       "    .dataframe tbody tr th:only-of-type {\n",
       "        vertical-align: middle;\n",
       "    }\n",
       "\n",
       "    .dataframe tbody tr th {\n",
       "        vertical-align: top;\n",
       "    }\n",
       "\n",
       "    .dataframe thead th {\n",
       "        text-align: right;\n",
       "    }\n",
       "</style>\n",
       "<table border=\"1\" class=\"dataframe\">\n",
       "  <thead>\n",
       "    <tr style=\"text-align: right;\">\n",
       "      <th></th>\n",
       "      <th>x1</th>\n",
       "      <th>x2</th>\n",
       "      <th>x3</th>\n",
       "      <th>x4</th>\n",
       "      <th>class</th>\n",
       "    </tr>\n",
       "  </thead>\n",
       "  <tbody>\n",
       "    <tr>\n",
       "      <th>0</th>\n",
       "      <td>3.62160</td>\n",
       "      <td>8.6661</td>\n",
       "      <td>-2.8073</td>\n",
       "      <td>-0.44699</td>\n",
       "      <td>0</td>\n",
       "    </tr>\n",
       "    <tr>\n",
       "      <th>1</th>\n",
       "      <td>4.54590</td>\n",
       "      <td>8.1674</td>\n",
       "      <td>-2.4586</td>\n",
       "      <td>-1.46210</td>\n",
       "      <td>0</td>\n",
       "    </tr>\n",
       "    <tr>\n",
       "      <th>2</th>\n",
       "      <td>3.86600</td>\n",
       "      <td>-2.6383</td>\n",
       "      <td>1.9242</td>\n",
       "      <td>0.10645</td>\n",
       "      <td>0</td>\n",
       "    </tr>\n",
       "    <tr>\n",
       "      <th>3</th>\n",
       "      <td>3.45660</td>\n",
       "      <td>9.5228</td>\n",
       "      <td>-4.0112</td>\n",
       "      <td>-3.59440</td>\n",
       "      <td>0</td>\n",
       "    </tr>\n",
       "    <tr>\n",
       "      <th>4</th>\n",
       "      <td>0.32924</td>\n",
       "      <td>-4.4552</td>\n",
       "      <td>4.5718</td>\n",
       "      <td>-0.98880</td>\n",
       "      <td>0</td>\n",
       "    </tr>\n",
       "  </tbody>\n",
       "</table>\n",
       "</div>"
      ],
      "text/plain": [
       "        x1      x2      x3       x4  class\n",
       "0  3.62160  8.6661 -2.8073 -0.44699      0\n",
       "1  4.54590  8.1674 -2.4586 -1.46210      0\n",
       "2  3.86600 -2.6383  1.9242  0.10645      0\n",
       "3  3.45660  9.5228 -4.0112 -3.59440      0\n",
       "4  0.32924 -4.4552  4.5718 -0.98880      0"
      ]
     },
     "execution_count": 65,
     "metadata": {},
     "output_type": "execute_result"
    }
   ],
   "source": [
    "url = \"https://archive.ics.uci.edu/static/public/267/banknote+authentication.zip\"\n",
    "\n",
    "df = pd.read_csv(url, header=None)\n",
    "df.columns = [\"x1\", \"x2\", \"x3\", \"x4\", \"class\"]\n",
    "df.head()"
   ]
  },
  {
   "cell_type": "code",
   "execution_count": 66,
   "metadata": {},
   "outputs": [
    {
     "name": "stdout",
     "output_type": "stream",
     "text": [
      "<class 'pandas.core.frame.DataFrame'>\n",
      "RangeIndex: 1372 entries, 0 to 1371\n",
      "Data columns (total 5 columns):\n",
      " #   Column  Non-Null Count  Dtype  \n",
      "---  ------  --------------  -----  \n",
      " 0   x1      1372 non-null   float64\n",
      " 1   x2      1372 non-null   float64\n",
      " 2   x3      1372 non-null   float64\n",
      " 3   x4      1372 non-null   float64\n",
      " 4   class   1372 non-null   int64  \n",
      "dtypes: float64(4), int64(1)\n",
      "memory usage: 53.7 KB\n"
     ]
    }
   ],
   "source": [
    "df.info() #Einige Eigenschaften des Datensatzes werden zusammengefasst"
   ]
  },
  {
   "cell_type": "code",
   "execution_count": 67,
   "metadata": {},
   "outputs": [
    {
     "data": {
      "text/html": [
       "<div>\n",
       "<style scoped>\n",
       "    .dataframe tbody tr th:only-of-type {\n",
       "        vertical-align: middle;\n",
       "    }\n",
       "\n",
       "    .dataframe tbody tr th {\n",
       "        vertical-align: top;\n",
       "    }\n",
       "\n",
       "    .dataframe thead th {\n",
       "        text-align: right;\n",
       "    }\n",
       "</style>\n",
       "<table border=\"1\" class=\"dataframe\">\n",
       "  <thead>\n",
       "    <tr style=\"text-align: right;\">\n",
       "      <th></th>\n",
       "      <th>x1</th>\n",
       "      <th>x2</th>\n",
       "      <th>x3</th>\n",
       "      <th>x4</th>\n",
       "      <th>class</th>\n",
       "    </tr>\n",
       "  </thead>\n",
       "  <tbody>\n",
       "    <tr>\n",
       "      <th>count</th>\n",
       "      <td>1372.000000</td>\n",
       "      <td>1372.000000</td>\n",
       "      <td>1372.000000</td>\n",
       "      <td>1372.000000</td>\n",
       "      <td>1372.000000</td>\n",
       "    </tr>\n",
       "    <tr>\n",
       "      <th>mean</th>\n",
       "      <td>0.433735</td>\n",
       "      <td>1.922353</td>\n",
       "      <td>1.397627</td>\n",
       "      <td>-1.191657</td>\n",
       "      <td>0.444606</td>\n",
       "    </tr>\n",
       "    <tr>\n",
       "      <th>std</th>\n",
       "      <td>2.842763</td>\n",
       "      <td>5.869047</td>\n",
       "      <td>4.310030</td>\n",
       "      <td>2.101013</td>\n",
       "      <td>0.497103</td>\n",
       "    </tr>\n",
       "    <tr>\n",
       "      <th>min</th>\n",
       "      <td>-7.042100</td>\n",
       "      <td>-13.773100</td>\n",
       "      <td>-5.286100</td>\n",
       "      <td>-8.548200</td>\n",
       "      <td>0.000000</td>\n",
       "    </tr>\n",
       "    <tr>\n",
       "      <th>25%</th>\n",
       "      <td>-1.773000</td>\n",
       "      <td>-1.708200</td>\n",
       "      <td>-1.574975</td>\n",
       "      <td>-2.413450</td>\n",
       "      <td>0.000000</td>\n",
       "    </tr>\n",
       "    <tr>\n",
       "      <th>50%</th>\n",
       "      <td>0.496180</td>\n",
       "      <td>2.319650</td>\n",
       "      <td>0.616630</td>\n",
       "      <td>-0.586650</td>\n",
       "      <td>0.000000</td>\n",
       "    </tr>\n",
       "    <tr>\n",
       "      <th>75%</th>\n",
       "      <td>2.821475</td>\n",
       "      <td>6.814625</td>\n",
       "      <td>3.179250</td>\n",
       "      <td>0.394810</td>\n",
       "      <td>1.000000</td>\n",
       "    </tr>\n",
       "    <tr>\n",
       "      <th>max</th>\n",
       "      <td>6.824800</td>\n",
       "      <td>12.951600</td>\n",
       "      <td>17.927400</td>\n",
       "      <td>2.449500</td>\n",
       "      <td>1.000000</td>\n",
       "    </tr>\n",
       "  </tbody>\n",
       "</table>\n",
       "</div>"
      ],
      "text/plain": [
       "                x1           x2           x3           x4        class\n",
       "count  1372.000000  1372.000000  1372.000000  1372.000000  1372.000000\n",
       "mean      0.433735     1.922353     1.397627    -1.191657     0.444606\n",
       "std       2.842763     5.869047     4.310030     2.101013     0.497103\n",
       "min      -7.042100   -13.773100    -5.286100    -8.548200     0.000000\n",
       "25%      -1.773000    -1.708200    -1.574975    -2.413450     0.000000\n",
       "50%       0.496180     2.319650     0.616630    -0.586650     0.000000\n",
       "75%       2.821475     6.814625     3.179250     0.394810     1.000000\n",
       "max       6.824800    12.951600    17.927400     2.449500     1.000000"
      ]
     },
     "execution_count": 67,
     "metadata": {},
     "output_type": "execute_result"
    }
   ],
   "source": [
    "df.describe()"
   ]
  },
  {
   "cell_type": "code",
   "execution_count": 68,
   "metadata": {},
   "outputs": [],
   "source": [
    "X = df.drop(columns=\"class\") #Features\n",
    "y = df[\"class\"] #Target (echter oder gefälschter Geldschein)"
   ]
  },
  {
   "cell_type": "code",
   "execution_count": 69,
   "metadata": {},
   "outputs": [
    {
     "data": {
      "text/plain": [
       "class\n",
       "0    0.555394\n",
       "1    0.444606\n",
       "Name: proportion, dtype: float64"
      ]
     },
     "execution_count": 69,
     "metadata": {},
     "output_type": "execute_result"
    }
   ],
   "source": [
    "y.value_counts(normalize=True) #leicht unausgeglichen"
   ]
  },
  {
   "cell_type": "markdown",
   "metadata": {},
   "source": [
    "## Vorbereitung der Daten und des Modells (ohne Normalisierung/Standardisierung der Daten)"
   ]
  },
  {
   "cell_type": "code",
   "execution_count": 70,
   "metadata": {},
   "outputs": [],
   "source": [
    "X = X.values\n",
    "y = y.values\n",
    "\n",
    "class BankDataset(Dataset):\n",
    "    def __init__(self, X, y):\n",
    "        self.features = torch.tensor(X, dtype=torch.float32)\n",
    "        self.labels = torch.tensor(y, dtype=torch.float32)\n",
    "\n",
    "    def __getitem__(self, index):\n",
    "        x = self.features[index]\n",
    "        y = self.labels[index]\n",
    "        return x, y\n",
    "\n",
    "    def __len__(self):\n",
    "        return self.labels.shape[0]"
   ]
  },
  {
   "cell_type": "code",
   "execution_count": 71,
   "metadata": {},
   "outputs": [],
   "source": [
    "train_size = int(0.8*X.shape[0]) # 80% des Datensatzes für das Training\n",
    "val_size = X.shape[0]-train_size #20% zur Validierung des Modells"
   ]
  },
  {
   "cell_type": "code",
   "execution_count": 72,
   "metadata": {},
   "outputs": [],
   "source": [
    "dataset = BankDataset(X, y)\n",
    "\n",
    "torch.manual_seed(1) # um Ergebnisse zu replizieren\n",
    "\n",
    "train_data, val_data = torch.utils.data.random_split(dataset, [train_size, val_size])\n",
    "\n",
    "train_loader = DataLoader(\n",
    "    train_data,\n",
    "    batch_size=16,\n",
    "    shuffle=True\n",
    ")\n",
    "\n",
    "val_loader = DataLoader(\n",
    "    val_data,\n",
    "    batch_size=16,\n",
    "    shuffle=False\n",
    ")"
   ]
  },
  {
   "cell_type": "code",
   "execution_count": 74,
   "metadata": {},
   "outputs": [],
   "source": [
    "# implementiere das Modell\n",
    "\n",
    "class LogisticRegression(nn.Module):\n",
    "    def __init__(self, in_features, out_features):\n",
    "        super().__init__()\n",
    "        self.in_features = in_features\n",
    "        self.out_features = out_features\n",
    "        self.linear = nn.Linear(in_features=self.in_features, out_features=self.out_features)\n",
    "\n",
    "    def forward(self, x):\n",
    "        return self.linear(x)"
   ]
  },
  {
   "cell_type": "code",
   "execution_count": 75,
   "metadata": {},
   "outputs": [
    {
     "data": {
      "text/plain": [
       "tensor([0.0323, 0.0202, 0.6790], grad_fn=<ViewBackward0>)"
      ]
     },
     "execution_count": 75,
     "metadata": {},
     "output_type": "execute_result"
    }
   ],
   "source": [
    "model = LogisticRegression(4,1)\n",
    "torch.sigmoid(model(torch.from_numpy(X).to(dtype=torch.float32)[:3])).view(-1)"
   ]
  },
  {
   "cell_type": "code",
   "execution_count": 79,
   "metadata": {},
   "outputs": [],
   "source": [
    "def accuracy(model, dataloader):\n",
    "    correct = 0\n",
    "    total = 0\n",
    "    model = model.eval()\n",
    "    for (features, y_true) in dataloader:\n",
    "        with torch.inference_mode():\n",
    "            logits = model(features)\n",
    "        probs = torch.sigmoid(logits).view(-1)\n",
    "        y_pred = torch.where(probs>0.5,1,0)\n",
    "\n",
    "        compare = y_pred == y_true\n",
    "        correct += torch.sum(compare)\n",
    "        total += len(compare)\n",
    "    return correct/total"
   ]
  },
  {
   "cell_type": "code",
   "execution_count": 88,
   "metadata": {},
   "outputs": [
    {
     "name": "stdout",
     "output_type": "stream",
     "text": [
      "Epoch: 1/5\n",
      "Batch: 1/69\n",
      "Train Loss: 0.586\n",
      "Validation acc: 0.793\n",
      "--------------------\n",
      "Epoch: 1/5\n",
      "Batch: 41/69\n",
      "Train Loss: 0.055\n",
      "Validation acc: 0.989\n",
      "--------------------\n",
      "Epoch: 2/5\n",
      "Batch: 1/69\n",
      "Train Loss: 0.097\n",
      "Validation acc: 0.993\n",
      "--------------------\n",
      "Epoch: 2/5\n",
      "Batch: 41/69\n",
      "Train Loss: 0.001\n",
      "Validation acc: 0.975\n",
      "--------------------\n",
      "Epoch: 3/5\n",
      "Batch: 1/69\n",
      "Train Loss: 0.070\n",
      "Validation acc: 0.993\n",
      "--------------------\n",
      "Epoch: 3/5\n",
      "Batch: 41/69\n",
      "Train Loss: 0.009\n",
      "Validation acc: 0.989\n",
      "--------------------\n",
      "Epoch: 4/5\n",
      "Batch: 1/69\n",
      "Train Loss: 0.087\n",
      "Validation acc: 0.996\n",
      "--------------------\n",
      "Epoch: 4/5\n",
      "Batch: 41/69\n",
      "Train Loss: 0.111\n",
      "Validation acc: 0.993\n",
      "--------------------\n",
      "Epoch: 5/5\n",
      "Batch: 1/69\n",
      "Train Loss: 0.099\n",
      "Validation acc: 0.993\n",
      "--------------------\n",
      "Epoch: 5/5\n",
      "Batch: 41/69\n",
      "Train Loss: 0.035\n",
      "Validation acc: 0.993\n",
      "--------------------\n"
     ]
    }
   ],
   "source": [
    "# Training-Schleife\n",
    "\n",
    "epochs = 5\n",
    "\n",
    "model = LogisticRegression(X.shape[1], 1)\n",
    "\n",
    "loss_fn = F.binary_cross_entropy_with_logits\n",
    "optimizer = torch.optim.Adam(params=model.parameters(), lr=0.1)\n",
    "\n",
    "history = {\n",
    "    \"train_losses\": [],\n",
    "    \"val_acc\":[]\n",
    "}\n",
    "\n",
    "for epoch in range(epochs):\n",
    "    model = model.train()\n",
    "\n",
    "    for batch_idx, (features, y_true) in enumerate(train_loader):\n",
    "        logits = model(features)\n",
    "        loss = loss_fn(logits, y_true.view(logits.shape))\n",
    "        history[\"train_losses\"].append(loss)\n",
    "\n",
    "        optimizer.zero_grad()\n",
    "        loss.backward()\n",
    "        optimizer.step()\n",
    "        history[\"val_acc\"].append(accuracy(model, val_loader))\n",
    "\n",
    "        if not batch_idx%40:\n",
    "            print(f\"Epoch: {epoch+1}/{epochs}\",\n",
    "                  f\"Batch: {batch_idx+1}/{len(train_loader)}\",\n",
    "                  f\"Train Loss: {history['train_losses'][-1]:.3f}\",\n",
    "                  f\"Validation acc: {history['val_acc'][-1]:.3f}\",\n",
    "                  20*\"-\",\n",
    "                  sep=\"\\n\")"
   ]
  },
  {
   "cell_type": "code",
   "execution_count": null,
   "metadata": {},
   "outputs": [],
   "source": []
  }
 ],
 "metadata": {
  "kernelspec": {
   "display_name": "data",
   "language": "python",
   "name": "python3"
  },
  "language_info": {
   "codemirror_mode": {
    "name": "ipython",
    "version": 3
   },
   "file_extension": ".py",
   "mimetype": "text/x-python",
   "name": "python",
   "nbconvert_exporter": "python",
   "pygments_lexer": "ipython3",
   "version": "3.12.1"
  }
 },
 "nbformat": 4,
 "nbformat_minor": 2
}
