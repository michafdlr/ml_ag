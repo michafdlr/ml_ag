{
 "cells": [
  {
   "cell_type": "markdown",
   "metadata": {},
   "source": [
    "# Wichtige Pakete importieren"
   ]
  },
  {
   "cell_type": "code",
   "execution_count": 1,
   "metadata": {},
   "outputs": [],
   "source": [
    "import numpy as np # Python-Bibliothek um mit effizient mit Arrays zu arbeiten\n",
    "import pandas as pd # Bibliothek um mit tabellarischen Daten zu arbeiten\n",
    "\n",
    "import matplotlib.pyplot as plt # Bibliothek zum Zeichnen\n",
    "\n",
    "#NEU\n",
    "import torch"
   ]
  },
  {
   "cell_type": "markdown",
   "metadata": {},
   "source": [
    "# Spielzeug-Daten laden und visualisieren"
   ]
  },
  {
   "cell_type": "code",
   "execution_count": 3,
   "metadata": {},
   "outputs": [
    {
     "data": {
      "text/html": [
       "<div>\n",
       "<style scoped>\n",
       "    .dataframe tbody tr th:only-of-type {\n",
       "        vertical-align: middle;\n",
       "    }\n",
       "\n",
       "    .dataframe tbody tr th {\n",
       "        vertical-align: top;\n",
       "    }\n",
       "\n",
       "    .dataframe thead th {\n",
       "        text-align: right;\n",
       "    }\n",
       "</style>\n",
       "<table border=\"1\" class=\"dataframe\">\n",
       "  <thead>\n",
       "    <tr style=\"text-align: right;\">\n",
       "      <th></th>\n",
       "      <th>x1</th>\n",
       "      <th>x2</th>\n",
       "      <th>label</th>\n",
       "    </tr>\n",
       "  </thead>\n",
       "  <tbody>\n",
       "    <tr>\n",
       "      <th>0</th>\n",
       "      <td>0.77</td>\n",
       "      <td>-1.14</td>\n",
       "      <td>0</td>\n",
       "    </tr>\n",
       "    <tr>\n",
       "      <th>1</th>\n",
       "      <td>-0.33</td>\n",
       "      <td>1.44</td>\n",
       "      <td>0</td>\n",
       "    </tr>\n",
       "    <tr>\n",
       "      <th>2</th>\n",
       "      <td>0.91</td>\n",
       "      <td>-3.07</td>\n",
       "      <td>0</td>\n",
       "    </tr>\n",
       "    <tr>\n",
       "      <th>3</th>\n",
       "      <td>-0.37</td>\n",
       "      <td>-1.91</td>\n",
       "      <td>0</td>\n",
       "    </tr>\n",
       "    <tr>\n",
       "      <th>4</th>\n",
       "      <td>-0.63</td>\n",
       "      <td>-1.53</td>\n",
       "      <td>0</td>\n",
       "    </tr>\n",
       "    <tr>\n",
       "      <th>5</th>\n",
       "      <td>0.39</td>\n",
       "      <td>-1.99</td>\n",
       "      <td>0</td>\n",
       "    </tr>\n",
       "    <tr>\n",
       "      <th>6</th>\n",
       "      <td>-0.49</td>\n",
       "      <td>-2.74</td>\n",
       "      <td>0</td>\n",
       "    </tr>\n",
       "    <tr>\n",
       "      <th>7</th>\n",
       "      <td>-0.68</td>\n",
       "      <td>-1.52</td>\n",
       "      <td>0</td>\n",
       "    </tr>\n",
       "    <tr>\n",
       "      <th>8</th>\n",
       "      <td>-0.10</td>\n",
       "      <td>-3.43</td>\n",
       "      <td>0</td>\n",
       "    </tr>\n",
       "    <tr>\n",
       "      <th>9</th>\n",
       "      <td>-0.05</td>\n",
       "      <td>-1.95</td>\n",
       "      <td>0</td>\n",
       "    </tr>\n",
       "    <tr>\n",
       "      <th>10</th>\n",
       "      <td>3.88</td>\n",
       "      <td>0.65</td>\n",
       "      <td>1</td>\n",
       "    </tr>\n",
       "    <tr>\n",
       "      <th>11</th>\n",
       "      <td>0.73</td>\n",
       "      <td>2.97</td>\n",
       "      <td>1</td>\n",
       "    </tr>\n",
       "    <tr>\n",
       "      <th>12</th>\n",
       "      <td>0.83</td>\n",
       "      <td>3.94</td>\n",
       "      <td>1</td>\n",
       "    </tr>\n",
       "    <tr>\n",
       "      <th>13</th>\n",
       "      <td>1.59</td>\n",
       "      <td>1.25</td>\n",
       "      <td>1</td>\n",
       "    </tr>\n",
       "    <tr>\n",
       "      <th>14</th>\n",
       "      <td>1.14</td>\n",
       "      <td>3.91</td>\n",
       "      <td>1</td>\n",
       "    </tr>\n",
       "    <tr>\n",
       "      <th>15</th>\n",
       "      <td>1.73</td>\n",
       "      <td>2.80</td>\n",
       "      <td>1</td>\n",
       "    </tr>\n",
       "    <tr>\n",
       "      <th>16</th>\n",
       "      <td>1.31</td>\n",
       "      <td>1.85</td>\n",
       "      <td>1</td>\n",
       "    </tr>\n",
       "    <tr>\n",
       "      <th>17</th>\n",
       "      <td>1.56</td>\n",
       "      <td>3.85</td>\n",
       "      <td>1</td>\n",
       "    </tr>\n",
       "    <tr>\n",
       "      <th>18</th>\n",
       "      <td>1.23</td>\n",
       "      <td>2.54</td>\n",
       "      <td>1</td>\n",
       "    </tr>\n",
       "    <tr>\n",
       "      <th>19</th>\n",
       "      <td>1.33</td>\n",
       "      <td>2.03</td>\n",
       "      <td>1</td>\n",
       "    </tr>\n",
       "  </tbody>\n",
       "</table>\n",
       "</div>"
      ],
      "text/plain": [
       "      x1    x2  label\n",
       "0   0.77 -1.14      0\n",
       "1  -0.33  1.44      0\n",
       "2   0.91 -3.07      0\n",
       "3  -0.37 -1.91      0\n",
       "4  -0.63 -1.53      0\n",
       "5   0.39 -1.99      0\n",
       "6  -0.49 -2.74      0\n",
       "7  -0.68 -1.52      0\n",
       "8  -0.10 -3.43      0\n",
       "9  -0.05 -1.95      0\n",
       "10  3.88  0.65      1\n",
       "11  0.73  2.97      1\n",
       "12  0.83  3.94      1\n",
       "13  1.59  1.25      1\n",
       "14  1.14  3.91      1\n",
       "15  1.73  2.80      1\n",
       "16  1.31  1.85      1\n",
       "17  1.56  3.85      1\n",
       "18  1.23  2.54      1\n",
       "19  1.33  2.03      1"
      ]
     },
     "execution_count": 3,
     "metadata": {},
     "output_type": "execute_result"
    }
   ],
   "source": [
    "# Daten als pandas Dataframe laden\n",
    "data = pd.read_csv(\"toydata.txt\", sep=\"\\t\")\n",
    "data"
   ]
  },
  {
   "cell_type": "code",
   "execution_count": 8,
   "metadata": {},
   "outputs": [
    {
     "name": "stdout",
     "output_type": "stream",
     "text": [
      "Dimensionen von X: torch.Size([20, 2])\n",
      "Dimensionen von y: torch.Size([20])\n",
      "Datatype: torch.float32, torch.float32\n"
     ]
    }
   ],
   "source": [
    "# Spalte Daten in Punkte und labels\n",
    "X = torch.from_numpy(data[[\"x1\", \"x2\"]].values).to(dtype=torch.float32)\n",
    "y = torch.from_numpy(data[\"label\"].values).to(dtype=torch.float32)\n",
    "\n",
    "# Dimensionen prüfen\n",
    "print(f\"Dimensionen von X: {X.shape}\", f\"Dimensionen von y: {y.shape}\", sep=\"\\n\")\n",
    "print(f\"Datatype: {X.dtype}, {y.dtype}\")"
   ]
  },
  {
   "cell_type": "code",
   "execution_count": 9,
   "metadata": {},
   "outputs": [
    {
     "data": {
      "image/png": "[encoded data removed]",
      "text/plain": [
       "<Figure size 640x480 with 1 Axes>"
      ]
     },
     "metadata": {},
     "output_type": "display_data"
    }
   ],
   "source": [
    "# zeichne Punkte mit label 0\n",
    "plt.scatter(data[data[\"label\"]==0].loc[:, \"x1\"], data[data[\"label\"]==0].loc[:,\"x2\"],\n",
    "            marker=\"D\",\n",
    "            c=\"blue\",\n",
    "            label=\"Klasse 0\")\n",
    "\n",
    "# zeichne Punkte mit label 1\n",
    "plt.scatter(data[data[\"label\"]==1].loc[:, \"x1\"], data[data[\"label\"]==1].loc[:,\"x2\"],\n",
    "            marker=\"^\",\n",
    "            c=\"red\",\n",
    "            label=\"Klasse 1\"\n",
    "            )\n",
    "\n",
    "plt.xlim((-2,5))\n",
    "plt.ylim((-4,5))\n",
    "plt.xlabel(\"x1\")\n",
    "plt.ylabel(\"x2\")\n",
    "plt.grid()\n",
    "plt.legend();\n"
   ]
  },
  {
   "cell_type": "markdown",
   "metadata": {},
   "source": [
    "# Perceptron implementieren zur Klassifizierung der Punkte in Klasse 0 und 1"
   ]
  },
  {
   "cell_type": "code",
   "execution_count": 10,
   "metadata": {},
   "outputs": [],
   "source": [
    "class Perceptron:\n",
    "    # Contructor der Perceptron Klasse\n",
    "    def __init__(self, num_features):\n",
    "        self.num_features = 2\n",
    "        # initialisiere bias und weights als torch tensors\n",
    "        self.bias = torch.tensor(0.0, dtype=torch.float32)\n",
    "        self.wheights = torch.zeros(num_features, dtype=torch.float32)\n",
    "\n",
    "    # Berechnung des Schwellenwertes\n",
    "    def forward(self, x):\n",
    "        wheighted_sum_z = x@self.wheights + self.bias\n",
    "\n",
    "        prediction = torch.where(wheighted_sum_z>0,1.,0.)\n",
    "\n",
    "        return prediction\n",
    "\n",
    "    def update(self, x, y_true):\n",
    "        y_pred = self.forward(x)\n",
    "        error = y_true - y_pred\n",
    "\n",
    "        self.bias += error\n",
    "        self.wheights += x*error\n",
    "        return error\n"
   ]
  },
  {
   "cell_type": "code",
   "execution_count": 11,
   "metadata": {},
   "outputs": [
    {
     "name": "stdout",
     "output_type": "stream",
     "text": [
      "Gewichte nach der Initialisierung: tensor([0., 0.])\n",
      "Gewichte nach dem update: tensor([0.7300, 2.9700])\n"
     ]
    }
   ],
   "source": [
    "# Checken, ob alles läuft\n",
    "perc = Perceptron(2)\n",
    "print(f\"Gewichte nach der Initialisierung: {perc.wheights}\")\n",
    "perc.update(X[11], 1)\n",
    "print(f\"Gewichte nach dem update: {perc.wheights}\")"
   ]
  },
  {
   "cell_type": "markdown",
   "metadata": {},
   "source": [
    "# Trainiere das Perceptron"
   ]
  },
  {
   "cell_type": "code",
   "execution_count": 12,
   "metadata": {},
   "outputs": [],
   "source": [
    "def train(model, Xs, ys, epochs = 5):\n",
    "    for epoch in range(epochs):\n",
    "        error_count = 0\n",
    "        for x,y in zip(Xs, ys):\n",
    "            error = model.update(x,y)\n",
    "            error_count += abs(error)\n",
    "        print(f\"Falsch klassifizierte Punkte nach {epoch+1} Epochen: {error_count}\")"
   ]
  },
  {
   "cell_type": "code",
   "execution_count": 13,
   "metadata": {},
   "outputs": [
    {
     "name": "stdout",
     "output_type": "stream",
     "text": [
      "Falsch klassifizierte Punkte nach 1 Epochen: 1.0\n",
      "Falsch klassifizierte Punkte nach 2 Epochen: 3.0\n",
      "Falsch klassifizierte Punkte nach 3 Epochen: 1.0\n",
      "Falsch klassifizierte Punkte nach 4 Epochen: 0.0\n",
      "Falsch klassifizierte Punkte nach 5 Epochen: 0.0\n"
     ]
    }
   ],
   "source": [
    "perceptron = Perceptron(num_features=2)\n",
    "train(perceptron, X, y)"
   ]
  },
  {
   "cell_type": "markdown",
   "metadata": {},
   "source": [
    "# Visualisiere die Entscheidungsgrenze"
   ]
  },
  {
   "cell_type": "code",
   "execution_count": 14,
   "metadata": {},
   "outputs": [
    {
     "data": {
      "text/plain": [
       "tensor([2.8600, 1.9800])"
      ]
     },
     "execution_count": 14,
     "metadata": {},
     "output_type": "execute_result"
    }
   ],
   "source": [
    "perceptron.wheights"
   ]
  },
  {
   "cell_type": "code",
   "execution_count": 15,
   "metadata": {},
   "outputs": [
    {
     "data": {
      "image/png": "[encoded data removed]",
      "text/plain": [
       "<Figure size 1000x800 with 1 Axes>"
      ]
     },
     "metadata": {},
     "output_type": "display_data"
    }
   ],
   "source": [
    "def plot_decision_boundaries(model, data, x_min, x_max, ax):\n",
    "    # zeichne Punkte mit label 0\n",
    "\n",
    "    ax.scatter(data[data[\"label\"]==0].loc[:, \"x1\"], data[data[\"label\"]==0].loc[:,\"x2\"],\n",
    "                marker=\"D\",\n",
    "                c=\"blue\",\n",
    "                label=\"Klasse 0\")\n",
    "\n",
    "    # zeichne Punkte mit label 1\n",
    "    ax.scatter(data[data[\"label\"]==1].loc[:, \"x1\"], data[data[\"label\"]==1].loc[:,\"x2\"],\n",
    "                marker=\"^\",\n",
    "                c=\"red\",\n",
    "                label=\"Klasse 1\"\n",
    "                )\n",
    "\n",
    "    w1 = model.wheights[0]\n",
    "    w2 = model.wheights[1]\n",
    "    b = model.bias\n",
    "    if w2:\n",
    "        ax.plot([x_min, x_max], [(-w1*x_min-b)/w2, (-w1*x_max-b)/w2])\n",
    "    else:\n",
    "        ax.plot([x_min, x_max], [0, 0])\n",
    "\n",
    "    ax.set_xlim((x_min,x_max))\n",
    "    ax.set_ylim((-5,5))\n",
    "    ax.set_xlabel(\"$x_1$\")\n",
    "    ax.set_ylabel(\"$x_2$\")\n",
    "    ax.grid()\n",
    "    ax.legend()\n",
    "\n",
    "_, ax = plt.subplots(figsize=(10,8))\n",
    "plot_decision_boundaries(perceptron, data, -2, 5, ax)"
   ]
  },
  {
   "cell_type": "code",
   "execution_count": 3,
   "metadata": {},
   "outputs": [
    {
     "data": {
      "text/plain": [
       "0.9085147032218469"
      ]
     },
     "execution_count": 3,
     "metadata": {},
     "output_type": "execute_result"
    }
   ],
   "source": [
    "import numpy as np\n",
    "\n",
    "def sigmoid(x):\n",
    "    return 1/(1+np.exp(-x))\n",
    "\n",
    "class Neuron:\n",
    "    # Don't change anything in the `__init__` function.\n",
    "    def __init__(self, examples):\n",
    "        np.random.seed(42)\n",
    "        # Three weights: one for each feature and one more for the bias.\n",
    "        self.weights = np.random.normal(0, 1, 3 + 1)\n",
    "        self.examples = examples\n",
    "        #self.train()\n",
    "\n",
    "    def forward(self):\n",
    "        x = self.examples[\"features\"]\n",
    "        weighted_sum = np.array(x)@np.array(self.weights[:-1]) + np.array(self.weights[-1])\n",
    "        return sigmoid(weighted_sum)\n",
    "\n",
    "neuron = Neuron({\"features\": [0.79, 0.89, 0.777], \"label\": 0})\n",
    "\n",
    "neuron.forward()"
   ]
  }
 ],
 "metadata": {
  "kernelspec": {
   "display_name": "data",
   "language": "python",
   "name": "python3"
  },
  "language_info": {
   "codemirror_mode": {
    "name": "ipython",
    "version": 3
   },
   "file_extension": ".py",
   "mimetype": "text/x-python",
   "name": "python",
   "nbconvert_exporter": "python",
   "pygments_lexer": "ipython3",
   "version": "3.12.1"
  }
 },
 "nbformat": 4,
 "nbformat_minor": 2
}
